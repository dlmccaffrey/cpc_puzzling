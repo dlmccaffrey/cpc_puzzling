{
 "cells": [
  {
   "cell_type": "markdown",
   "metadata": {},
   "source": [
    "# Time to semaphore message\n",
    "This script converts time given in hours and minutes to a message. <a href=\"https://en.wikipedia.org/wiki/Flag_semaphore\">Semaphore</a> uses flag signals to spell out messages. The signals are based on the angle of the flags, so analog clock faces can be used to encode the angles. This code calculates the angles on a clock face, rounds them to the appropriate semaphore angles, and cross references the angles with letters to get a message."
   ]
  },
  {
   "cell_type": "code",
   "execution_count": 1,
   "metadata": {
    "collapsed": true
   },
   "outputs": [],
   "source": [
    "import pandas as pd"
   ]
  },
  {
   "cell_type": "code",
   "execution_count": 2,
   "metadata": {
    "collapsed": false
   },
   "outputs": [],
   "source": [
    "def round_angle_to_45s(numbers):\n",
    "    numbers = numbers / 45\n",
    "    numbers = round(numbers)\n",
    "    numbers = numbers * 45\n",
    "    return numbers"
   ]
  },
  {
   "cell_type": "code",
   "execution_count": 3,
   "metadata": {
    "collapsed": true
   },
   "outputs": [],
   "source": [
    "def calc_angles(hours, minutes):\n",
    "    angle1 = (hours * 60 + minutes) * 6\n",
    "    angle1 = round_angle_to_45s(angle1)\n",
    "    angle1 = angle1 % 360\n",
    "    angle2 = (hours * 60 + minutes) * 0.5\n",
    "    angle2 = round_angle_to_45s(angle2)\n",
    "    angle2 = angle2 % 360\n",
    "    \n",
    "    angles = {}\n",
    "    if angle1 > angle2:\n",
    "        angles['Small Angle'] = angle2\n",
    "        angles['Large Angle'] = angle1\n",
    "    else:\n",
    "        angles['Small Angle'] = angle1\n",
    "        angles['Large Angle'] = angle2\n",
    "        \n",
    "    return angles"
   ]
  },
  {
   "cell_type": "code",
   "execution_count": 4,
   "metadata": {
    "collapsed": false,
    "scrolled": true
   },
   "outputs": [],
   "source": [
    "def time_to_semaphore(file):\n",
    "    semaphore_table = pd.read_csv('semaphore.csv', index_col=False)\n",
    "\n",
    "    test = pd.read_csv(file, index_col=False)\n",
    "\n",
    "    angles = pd.DataFrame(columns=['Small Angle', 'Large Angle'])\n",
    "\n",
    "    for index, row in test.iterrows():\n",
    "        angle_row = calc_angles(row['Hours'], row['Minutes'])\n",
    "        angles = angles.append(angle_row, ignore_index=True)\n",
    "    angles\n",
    "\n",
    "    answer = angles.merge(semaphore_table, how='inner')\n",
    "    \n",
    "    return answer"
   ]
  },
  {
   "cell_type": "markdown",
   "metadata": {},
   "source": [
    "# Input here"
   ]
  },
  {
   "cell_type": "code",
   "execution_count": 6,
   "metadata": {
    "collapsed": false
   },
   "outputs": [
    {
     "data": {
      "text/html": [
       "<div>\n",
       "<table border=\"1\" class=\"dataframe\">\n",
       "  <thead>\n",
       "    <tr style=\"text-align: right;\">\n",
       "      <th></th>\n",
       "      <th>Hours</th>\n",
       "      <th>Minutes</th>\n",
       "    </tr>\n",
       "  </thead>\n",
       "  <tbody>\n",
       "    <tr>\n",
       "      <th>0</th>\n",
       "      <td>2</td>\n",
       "      <td>30</td>\n",
       "    </tr>\n",
       "    <tr>\n",
       "      <th>1</th>\n",
       "      <td>5</td>\n",
       "      <td>37</td>\n",
       "    </tr>\n",
       "    <tr>\n",
       "      <th>2</th>\n",
       "      <td>5</td>\n",
       "      <td>53</td>\n",
       "    </tr>\n",
       "    <tr>\n",
       "      <th>3</th>\n",
       "      <td>1</td>\n",
       "      <td>30</td>\n",
       "    </tr>\n",
       "  </tbody>\n",
       "</table>\n",
       "</div>"
      ],
      "text/plain": [
       "   Hours  Minutes\n",
       "0      2       30\n",
       "1      5       37\n",
       "2      5       53\n",
       "3      1       30"
      ]
     },
     "execution_count": 6,
     "metadata": {},
     "output_type": "execute_result"
    }
   ],
   "source": [
    "test = pd.read_csv('semaphore_test.csv', index_col=None)\n",
    "test"
   ]
  },
  {
   "cell_type": "code",
   "execution_count": 5,
   "metadata": {
    "collapsed": false
   },
   "outputs": [
    {
     "data": {
      "text/html": [
       "<div>\n",
       "<table border=\"1\" class=\"dataframe\">\n",
       "  <thead>\n",
       "    <tr style=\"text-align: right;\">\n",
       "      <th></th>\n",
       "      <th>Small Angle</th>\n",
       "      <th>Large Angle</th>\n",
       "      <th>Letter</th>\n",
       "    </tr>\n",
       "  </thead>\n",
       "  <tbody>\n",
       "    <tr>\n",
       "      <th>0</th>\n",
       "      <td>90.0</td>\n",
       "      <td>180.0</td>\n",
       "      <td>f</td>\n",
       "    </tr>\n",
       "    <tr>\n",
       "      <th>1</th>\n",
       "      <td>180.0</td>\n",
       "      <td>225.0</td>\n",
       "      <td>a</td>\n",
       "    </tr>\n",
       "    <tr>\n",
       "      <th>2</th>\n",
       "      <td>180.0</td>\n",
       "      <td>315.0</td>\n",
       "      <td>c</td>\n",
       "    </tr>\n",
       "    <tr>\n",
       "      <th>3</th>\n",
       "      <td>45.0</td>\n",
       "      <td>180.0</td>\n",
       "      <td>e</td>\n",
       "    </tr>\n",
       "  </tbody>\n",
       "</table>\n",
       "</div>"
      ],
      "text/plain": [
       "   Small Angle  Large Angle Letter\n",
       "0         90.0        180.0      f\n",
       "1        180.0        225.0      a\n",
       "2        180.0        315.0      c\n",
       "3         45.0        180.0      e"
      ]
     },
     "execution_count": 5,
     "metadata": {},
     "output_type": "execute_result"
    }
   ],
   "source": [
    "answer = time_to_semaphore('semaphore_test.csv')\n",
    "answer"
   ]
  },
  {
   "cell_type": "code",
   "execution_count": null,
   "metadata": {
    "collapsed": true
   },
   "outputs": [],
   "source": []
  }
 ],
 "metadata": {
  "kernelspec": {
   "display_name": "Python [Root]",
   "language": "python",
   "name": "Python [Root]"
  },
  "language_info": {
   "codemirror_mode": {
    "name": "ipython",
    "version": 3
   },
   "file_extension": ".py",
   "mimetype": "text/x-python",
   "name": "python",
   "nbconvert_exporter": "python",
   "pygments_lexer": "ipython3",
   "version": "3.5.2"
  }
 },
 "nbformat": 4,
 "nbformat_minor": 0
}
