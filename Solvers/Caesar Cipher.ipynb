{
 "cells": [
  {
   "cell_type": "markdown",
   "metadata": {},
   "source": [
    "# Caesar Cipher Solver\n",
    "A <a href=\"https://learncryptography.com/classical-encryption/caesar-cipher\">Caesar cipher</a>, also known as a shift cipher, takes a message and shifts all the letters forward in the alphabet. The recipient can then shift the letters back to see the original message."
   ]
  },
  {
   "cell_type": "code",
   "execution_count": 1,
   "metadata": {
    "collapsed": false
   },
   "outputs": [],
   "source": [
    "import string"
   ]
  },
  {
   "cell_type": "code",
   "execution_count": 2,
   "metadata": {
    "collapsed": true
   },
   "outputs": [],
   "source": [
    "# Caesar cipher for a particular shift\n",
    "def caesar(text, shift):\n",
    "    plaintext = text.lower()\n",
    "    alphabet = string.ascii_lowercase\n",
    "    shifted_alphabet = alphabet[shift:] + alphabet[:shift]\n",
    "    table = str.maketrans(alphabet, shifted_alphabet)\n",
    "    return plaintext.translate(table)"
   ]
  },
  {
   "cell_type": "code",
   "execution_count": 3,
   "metadata": {
    "collapsed": true
   },
   "outputs": [],
   "source": [
    "# Caesar cipher for all shifts\n",
    "def print_all_caesar(plaintext):\n",
    "    for i in range(1,27):\n",
    "        print(caesar(plaintext, i))"
   ]
  },
  {
   "cell_type": "markdown",
   "metadata": {},
   "source": [
    "# Enter text here"
   ]
  },
  {
   "cell_type": "code",
   "execution_count": 10,
   "metadata": {
    "collapsed": false
   },
   "outputs": [
    {
     "name": "stdout",
     "output_type": "stream",
     "text": [
      "mpuumevfbm\n",
      "nqvvnfwgcn\n",
      "orwwogxhdo\n",
      "psxxphyiep\n",
      "qtyyqizjfq\n",
      "ruzzrjakgr\n",
      "svaaskblhs\n",
      "twbbtlcmit\n",
      "uxccumdnju\n",
      "vyddvneokv\n",
      "wzeewofplw\n",
      "xaffxpgqmx\n",
      "ybggyqhrny\n",
      "zchhzrisoz\n",
      "adiiasjtpa\n",
      "bejjbtkuqb\n",
      "cfkkculvrc\n",
      "dglldvmwsd\n",
      "ehmmewnxte\n",
      "finnfxoyuf\n",
      "gjoogypzvg\n",
      "hkpphzqawh\n",
      "ilqqiarbxi\n",
      "jmrrjbscyj\n",
      "knsskctdzk\n",
      "lottldueal\n"
     ]
    }
   ],
   "source": [
    "print_all_caesar('LOTTLDUEAL')"
   ]
  },
  {
   "cell_type": "code",
   "execution_count": null,
   "metadata": {
    "collapsed": true
   },
   "outputs": [],
   "source": []
  }
 ],
 "metadata": {
  "anaconda-cloud": {},
  "kernelspec": {
   "display_name": "Python [Root]",
   "language": "python",
   "name": "Python [Root]"
  },
  "language_info": {
   "codemirror_mode": {
    "name": "ipython",
    "version": 3
   },
   "file_extension": ".py",
   "mimetype": "text/x-python",
   "name": "python",
   "nbconvert_exporter": "python",
   "pygments_lexer": "ipython3",
   "version": "3.5.2"
  }
 },
 "nbformat": 4,
 "nbformat_minor": 0
}
