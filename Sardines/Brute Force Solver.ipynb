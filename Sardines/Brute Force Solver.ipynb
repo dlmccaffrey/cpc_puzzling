{
 "cells": [
  {
   "cell_type": "markdown",
   "metadata": {},
   "source": [
    "# Sardines\n",
    "<a href=\"https://www.collegepuzzlechallenge.com/Puzzles/ViewPuzzle.ashx?id=1360\">Puzzle</a>."
   ]
  },
  {
   "cell_type": "markdown",
   "metadata": {},
   "source": [
    "This is a meta-puzzle, meaning it is solved by using the answers to previous puzzle. Since Sardines was a pre-puzzle (before the competition day), it used the answers from the five other pre-puzzles: UNDERTHESEA, THAMES, TROUBLE, SPLAT, and SPOTKELP. The Sardines crossword is formed by removing a letter from each of the puzzle answers. We had no idea which letter to remove, so I wrote a script to find all the removal combinations and save them to csv files. The resulting files are also in this folder."
   ]
  },
  {
   "cell_type": "code",
   "execution_count": 12,
   "metadata": {
    "collapsed": true
   },
   "outputs": [],
   "source": [
    "import pandas as pd\n",
    "import numpy as np"
   ]
  },
  {
   "cell_type": "code",
   "execution_count": 31,
   "metadata": {
    "collapsed": true
   },
   "outputs": [],
   "source": [
    "answer11 = 'UNDERTHESEA'\n",
    "answer6 = 'THAMES'\n",
    "answer7 = 'TROUBLE'\n",
    "answer5 = 'SPLAT'\n",
    "answer8 = 'SPOTKELP'"
   ]
  },
  {
   "cell_type": "code",
   "execution_count": 32,
   "metadata": {
    "collapsed": false
   },
   "outputs": [
    {
     "data": {
      "text/plain": [
       "'NDERTHESEA'"
      ]
     },
     "execution_count": 32,
     "metadata": {},
     "output_type": "execute_result"
    }
   ],
   "source": [
    "#create the shortened word\n",
    "index11 = 0\n",
    "less11 = answer11[:index11] + answer11[index11+1:]\n",
    "less11"
   ]
  },
  {
   "cell_type": "code",
   "execution_count": 33,
   "metadata": {
    "collapsed": false
   },
   "outputs": [
    {
     "data": {
      "text/plain": [
       "'HAMES'"
      ]
     },
     "execution_count": 33,
     "metadata": {},
     "output_type": "execute_result"
    }
   ],
   "source": [
    "index6 = 0\n",
    "less6 = answer6[:index6] + answer6[index6+1:]\n",
    "less6"
   ]
  },
  {
   "cell_type": "code",
   "execution_count": 34,
   "metadata": {
    "collapsed": true
   },
   "outputs": [],
   "source": [
    "def remove_letter(answer, index):\n",
    "    less = answer[:index] + answer[index+1:]\n",
    "    return less"
   ]
  },
  {
   "cell_type": "code",
   "execution_count": 35,
   "metadata": {
    "collapsed": true
   },
   "outputs": [],
   "source": [
    "index7 = 0\n",
    "index5 = 0\n",
    "index8 = 0"
   ]
  },
  {
   "cell_type": "code",
   "execution_count": 36,
   "metadata": {
    "collapsed": false
   },
   "outputs": [
    {
     "name": "stdout",
     "output_type": "stream",
     "text": [
      "ROUBLE\n",
      "PLAT\n",
      "POTKELP\n"
     ]
    }
   ],
   "source": [
    "less7 = remove_letter(answer7, index7)\n",
    "print(less7)\n",
    "less5 = remove_letter(answer5, index5)\n",
    "print(less5)\n",
    "less8 = remove_letter(answer8, index8)\n",
    "print(less8)"
   ]
  },
  {
   "cell_type": "code",
   "execution_count": 37,
   "metadata": {
    "collapsed": true
   },
   "outputs": [],
   "source": [
    "# make all the rows the same length by zero padding them according to the crossword\n",
    "row6 = '0' + less6 + '0000'\n",
    "row7 = '00' + less7 + '00'\n",
    "row5 = '0000' + less5 + '00'\n",
    "row8 = '000' + less8"
   ]
  },
  {
   "cell_type": "code",
   "execution_count": 38,
   "metadata": {
    "collapsed": true
   },
   "outputs": [],
   "source": [
    "#create a row to separate the solutions\n",
    "buffer_row = '0000000000'"
   ]
  },
  {
   "cell_type": "code",
   "execution_count": 39,
   "metadata": {
    "collapsed": false
   },
   "outputs": [
    {
     "data": {
      "text/plain": [
       "[['N', 'D', 'E', 'R', 'T', 'H', 'E', 'S', 'E', 'A'],\n",
       " ['0', 'H', 'A', 'M', 'E', 'S', '0', '0', '0', '0'],\n",
       " ['0', '0', 'R', 'O', 'U', 'B', 'L', 'E', '0', '0'],\n",
       " ['0', '0', '0', '0', 'P', 'L', 'A', 'T', '0', '0'],\n",
       " ['0', '0', '0', 'P', 'O', 'T', 'K', 'E', 'L', 'P'],\n",
       " ['0', '0', '0', '0', '0', '0', '0', '0', '0', '0']]"
      ]
     },
     "execution_count": 39,
     "metadata": {},
     "output_type": "execute_result"
    }
   ],
   "source": [
    "grid = [list(less11), list(row6), list(row7), list(row5), list(row8), list(buffer_row)]\n",
    "grid"
   ]
  },
  {
   "cell_type": "code",
   "execution_count": 40,
   "metadata": {
    "collapsed": false
   },
   "outputs": [
    {
     "data": {
      "text/html": [
       "<div>\n",
       "<table border=\"1\" class=\"dataframe\">\n",
       "  <thead>\n",
       "    <tr style=\"text-align: right;\">\n",
       "      <th></th>\n",
       "      <th>0</th>\n",
       "      <th>1</th>\n",
       "      <th>2</th>\n",
       "      <th>3</th>\n",
       "      <th>4</th>\n",
       "      <th>5</th>\n",
       "      <th>6</th>\n",
       "      <th>7</th>\n",
       "      <th>8</th>\n",
       "      <th>9</th>\n",
       "    </tr>\n",
       "  </thead>\n",
       "  <tbody>\n",
       "    <tr>\n",
       "      <th>0</th>\n",
       "      <td>N</td>\n",
       "      <td>D</td>\n",
       "      <td>E</td>\n",
       "      <td>R</td>\n",
       "      <td>T</td>\n",
       "      <td>H</td>\n",
       "      <td>E</td>\n",
       "      <td>S</td>\n",
       "      <td>E</td>\n",
       "      <td>A</td>\n",
       "    </tr>\n",
       "    <tr>\n",
       "      <th>1</th>\n",
       "      <td>0</td>\n",
       "      <td>H</td>\n",
       "      <td>A</td>\n",
       "      <td>M</td>\n",
       "      <td>E</td>\n",
       "      <td>S</td>\n",
       "      <td>0</td>\n",
       "      <td>0</td>\n",
       "      <td>0</td>\n",
       "      <td>0</td>\n",
       "    </tr>\n",
       "    <tr>\n",
       "      <th>2</th>\n",
       "      <td>0</td>\n",
       "      <td>0</td>\n",
       "      <td>R</td>\n",
       "      <td>O</td>\n",
       "      <td>U</td>\n",
       "      <td>B</td>\n",
       "      <td>L</td>\n",
       "      <td>E</td>\n",
       "      <td>0</td>\n",
       "      <td>0</td>\n",
       "    </tr>\n",
       "    <tr>\n",
       "      <th>3</th>\n",
       "      <td>0</td>\n",
       "      <td>0</td>\n",
       "      <td>0</td>\n",
       "      <td>0</td>\n",
       "      <td>P</td>\n",
       "      <td>L</td>\n",
       "      <td>A</td>\n",
       "      <td>T</td>\n",
       "      <td>0</td>\n",
       "      <td>0</td>\n",
       "    </tr>\n",
       "    <tr>\n",
       "      <th>4</th>\n",
       "      <td>0</td>\n",
       "      <td>0</td>\n",
       "      <td>0</td>\n",
       "      <td>P</td>\n",
       "      <td>O</td>\n",
       "      <td>T</td>\n",
       "      <td>K</td>\n",
       "      <td>E</td>\n",
       "      <td>L</td>\n",
       "      <td>P</td>\n",
       "    </tr>\n",
       "    <tr>\n",
       "      <th>5</th>\n",
       "      <td>0</td>\n",
       "      <td>0</td>\n",
       "      <td>0</td>\n",
       "      <td>0</td>\n",
       "      <td>0</td>\n",
       "      <td>0</td>\n",
       "      <td>0</td>\n",
       "      <td>0</td>\n",
       "      <td>0</td>\n",
       "      <td>0</td>\n",
       "    </tr>\n",
       "  </tbody>\n",
       "</table>\n",
       "</div>"
      ],
      "text/plain": [
       "   0  1  2  3  4  5  6  7  8  9\n",
       "0  N  D  E  R  T  H  E  S  E  A\n",
       "1  0  H  A  M  E  S  0  0  0  0\n",
       "2  0  0  R  O  U  B  L  E  0  0\n",
       "3  0  0  0  0  P  L  A  T  0  0\n",
       "4  0  0  0  P  O  T  K  E  L  P\n",
       "5  0  0  0  0  0  0  0  0  0  0"
      ]
     },
     "execution_count": 40,
     "metadata": {},
     "output_type": "execute_result"
    }
   ],
   "source": [
    "#create the crossword as a DataFrame so they can be appended easily\n",
    "grid = pd.DataFrame(grid)\n",
    "grid"
   ]
  },
  {
   "cell_type": "code",
   "execution_count": 43,
   "metadata": {
    "collapsed": false
   },
   "outputs": [
    {
     "data": {
      "text/html": [
       "<div>\n",
       "<table border=\"1\" class=\"dataframe\">\n",
       "  <thead>\n",
       "    <tr style=\"text-align: right;\">\n",
       "      <th></th>\n",
       "      <th>0</th>\n",
       "      <th>1</th>\n",
       "      <th>2</th>\n",
       "      <th>3</th>\n",
       "      <th>4</th>\n",
       "      <th>5</th>\n",
       "      <th>6</th>\n",
       "      <th>7</th>\n",
       "      <th>8</th>\n",
       "      <th>9</th>\n",
       "    </tr>\n",
       "  </thead>\n",
       "  <tbody>\n",
       "    <tr>\n",
       "      <th>0</th>\n",
       "      <td>N</td>\n",
       "      <td>D</td>\n",
       "      <td>E</td>\n",
       "      <td>R</td>\n",
       "      <td>T</td>\n",
       "      <td>H</td>\n",
       "      <td>E</td>\n",
       "      <td>S</td>\n",
       "      <td>E</td>\n",
       "      <td>A</td>\n",
       "    </tr>\n",
       "    <tr>\n",
       "      <th>1</th>\n",
       "      <td>0</td>\n",
       "      <td>H</td>\n",
       "      <td>A</td>\n",
       "      <td>M</td>\n",
       "      <td>E</td>\n",
       "      <td>S</td>\n",
       "      <td>0</td>\n",
       "      <td>0</td>\n",
       "      <td>0</td>\n",
       "      <td>0</td>\n",
       "    </tr>\n",
       "    <tr>\n",
       "      <th>2</th>\n",
       "      <td>0</td>\n",
       "      <td>0</td>\n",
       "      <td>R</td>\n",
       "      <td>O</td>\n",
       "      <td>U</td>\n",
       "      <td>B</td>\n",
       "      <td>L</td>\n",
       "      <td>E</td>\n",
       "      <td>0</td>\n",
       "      <td>0</td>\n",
       "    </tr>\n",
       "    <tr>\n",
       "      <th>3</th>\n",
       "      <td>0</td>\n",
       "      <td>0</td>\n",
       "      <td>0</td>\n",
       "      <td>0</td>\n",
       "      <td>P</td>\n",
       "      <td>L</td>\n",
       "      <td>A</td>\n",
       "      <td>T</td>\n",
       "      <td>0</td>\n",
       "      <td>0</td>\n",
       "    </tr>\n",
       "    <tr>\n",
       "      <th>4</th>\n",
       "      <td>0</td>\n",
       "      <td>0</td>\n",
       "      <td>0</td>\n",
       "      <td>P</td>\n",
       "      <td>O</td>\n",
       "      <td>T</td>\n",
       "      <td>K</td>\n",
       "      <td>E</td>\n",
       "      <td>L</td>\n",
       "      <td>P</td>\n",
       "    </tr>\n",
       "    <tr>\n",
       "      <th>5</th>\n",
       "      <td>0</td>\n",
       "      <td>0</td>\n",
       "      <td>0</td>\n",
       "      <td>0</td>\n",
       "      <td>0</td>\n",
       "      <td>0</td>\n",
       "      <td>0</td>\n",
       "      <td>0</td>\n",
       "      <td>0</td>\n",
       "      <td>0</td>\n",
       "    </tr>\n",
       "    <tr>\n",
       "      <th>0</th>\n",
       "      <td>N</td>\n",
       "      <td>D</td>\n",
       "      <td>E</td>\n",
       "      <td>R</td>\n",
       "      <td>T</td>\n",
       "      <td>H</td>\n",
       "      <td>E</td>\n",
       "      <td>S</td>\n",
       "      <td>E</td>\n",
       "      <td>A</td>\n",
       "    </tr>\n",
       "    <tr>\n",
       "      <th>1</th>\n",
       "      <td>0</td>\n",
       "      <td>H</td>\n",
       "      <td>A</td>\n",
       "      <td>M</td>\n",
       "      <td>E</td>\n",
       "      <td>S</td>\n",
       "      <td>0</td>\n",
       "      <td>0</td>\n",
       "      <td>0</td>\n",
       "      <td>0</td>\n",
       "    </tr>\n",
       "    <tr>\n",
       "      <th>2</th>\n",
       "      <td>0</td>\n",
       "      <td>0</td>\n",
       "      <td>R</td>\n",
       "      <td>O</td>\n",
       "      <td>U</td>\n",
       "      <td>B</td>\n",
       "      <td>L</td>\n",
       "      <td>E</td>\n",
       "      <td>0</td>\n",
       "      <td>0</td>\n",
       "    </tr>\n",
       "    <tr>\n",
       "      <th>3</th>\n",
       "      <td>0</td>\n",
       "      <td>0</td>\n",
       "      <td>0</td>\n",
       "      <td>0</td>\n",
       "      <td>P</td>\n",
       "      <td>L</td>\n",
       "      <td>A</td>\n",
       "      <td>T</td>\n",
       "      <td>0</td>\n",
       "      <td>0</td>\n",
       "    </tr>\n",
       "    <tr>\n",
       "      <th>4</th>\n",
       "      <td>0</td>\n",
       "      <td>0</td>\n",
       "      <td>0</td>\n",
       "      <td>P</td>\n",
       "      <td>O</td>\n",
       "      <td>T</td>\n",
       "      <td>K</td>\n",
       "      <td>E</td>\n",
       "      <td>L</td>\n",
       "      <td>P</td>\n",
       "    </tr>\n",
       "    <tr>\n",
       "      <th>5</th>\n",
       "      <td>0</td>\n",
       "      <td>0</td>\n",
       "      <td>0</td>\n",
       "      <td>0</td>\n",
       "      <td>0</td>\n",
       "      <td>0</td>\n",
       "      <td>0</td>\n",
       "      <td>0</td>\n",
       "      <td>0</td>\n",
       "      <td>0</td>\n",
       "    </tr>\n",
       "  </tbody>\n",
       "</table>\n",
       "</div>"
      ],
      "text/plain": [
       "   0  1  2  3  4  5  6  7  8  9\n",
       "0  N  D  E  R  T  H  E  S  E  A\n",
       "1  0  H  A  M  E  S  0  0  0  0\n",
       "2  0  0  R  O  U  B  L  E  0  0\n",
       "3  0  0  0  0  P  L  A  T  0  0\n",
       "4  0  0  0  P  O  T  K  E  L  P\n",
       "5  0  0  0  0  0  0  0  0  0  0\n",
       "0  N  D  E  R  T  H  E  S  E  A\n",
       "1  0  H  A  M  E  S  0  0  0  0\n",
       "2  0  0  R  O  U  B  L  E  0  0\n",
       "3  0  0  0  0  P  L  A  T  0  0\n",
       "4  0  0  0  P  O  T  K  E  L  P\n",
       "5  0  0  0  0  0  0  0  0  0  0"
      ]
     },
     "execution_count": 43,
     "metadata": {},
     "output_type": "execute_result"
    }
   ],
   "source": [
    "grid_list = pd.DataFrame(columns=[0,1,2,3,4,5,6,7,8,9]) #empty DataFrames can be made, but empty arrays cannot be\n",
    "grid_list = grid_list.append(grid)\n",
    "grid_list = grid_list.append(grid)\n",
    "grid_list"
   ]
  },
  {
   "cell_type": "code",
   "execution_count": 47,
   "metadata": {
    "collapsed": false
   },
   "outputs": [
    {
     "data": {
      "text/plain": [
       "'grid_list0.csv'"
      ]
     },
     "execution_count": 47,
     "metadata": {},
     "output_type": "execute_result"
    }
   ],
   "source": [
    "#save to file\n",
    "filename = 'grid_list' + str(index11) + '.csv'\n",
    "filename"
   ]
  },
  {
   "cell_type": "code",
   "execution_count": 48,
   "metadata": {
    "collapsed": false
   },
   "outputs": [],
   "source": [
    "with open(filename, mode='w') as file:\n",
    "    grid_list.to_csv(file)"
   ]
  },
  {
   "cell_type": "code",
   "execution_count": 49,
   "metadata": {
    "collapsed": true
   },
   "outputs": [],
   "source": [
    "#put it all together\n",
    "buffer_row = '0000000000'\n",
    "\n",
    "for index11 in range(11):\n",
    "    less11 = remove_letter(answer11, index11)\n",
    "    \n",
    "    grid_list = pd.DataFrame(columns=[0,1,2,3,4,5,6,7,8,9])\n",
    "    \n",
    "    for index6 in range(6):\n",
    "        less6 = remove_letter(answer6, index6)\n",
    "        row6 = '0' + less6 + '0000'\n",
    "        \n",
    "        for index7 in range(7):\n",
    "            less7 = remove_letter(answer7, index7)\n",
    "            row7 = '00' + less7 + '00'\n",
    "            \n",
    "            for index5 in range(5):\n",
    "                less5 = remove_letter(answer5, index5)\n",
    "                row5 = '0000' + less5 + '00'\n",
    "                \n",
    "                for index8 in range(8):\n",
    "                    less8 = remove_letter(answer8, index8)\n",
    "                    row8 = '000' + less8\n",
    "                    \n",
    "                    grid = [list(less11), list(row6), list(row7), list(row5), list(row8), list(buffer_row)]\n",
    "                    grid_list = grid_list.append(grid)\n",
    "                    \n",
    "    filename = 'grid_list' + str(index11) + '.csv'\n",
    "    with open(filename, mode='w') as file:\n",
    "        grid_list.to_csv(file)"
   ]
  },
  {
   "cell_type": "code",
   "execution_count": null,
   "metadata": {
    "collapsed": true
   },
   "outputs": [],
   "source": []
  }
 ],
 "metadata": {
  "kernelspec": {
   "display_name": "Python [Root]",
   "language": "python",
   "name": "Python [Root]"
  },
  "language_info": {
   "codemirror_mode": {
    "name": "ipython",
    "version": 3
   },
   "file_extension": ".py",
   "mimetype": "text/x-python",
   "name": "python",
   "nbconvert_exporter": "python",
   "pygments_lexer": "ipython3",
   "version": "3.5.2"
  }
 },
 "nbformat": 4,
 "nbformat_minor": 0
}
